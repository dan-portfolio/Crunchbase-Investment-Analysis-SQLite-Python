{
 "cells": [
  {
   "cell_type": "markdown",
   "metadata": {
    "collapsed": true
   },
   "source": [
    "### Analyze the Crunchbase data set while keeping a memory profile of below 10MB of memory\n"
   ]
  },
  {
   "cell_type": "code",
   "execution_count": 21,
   "metadata": {
    "collapsed": false
   },
   "outputs": [],
   "source": [
    "import pandas as pd\n",
    "import numpy as np\n",
    "\n",
    "c_iter = pd.read_csv(\"crunchbase-investments.csv\", chunksize = 5000, encoding='ISO-8859-1')"
   ]
  },
  {
   "cell_type": "markdown",
   "metadata": {},
   "source": [
    "### Find each column's missing value count:"
   ]
  },
  {
   "cell_type": "code",
   "execution_count": 33,
   "metadata": {
    "collapsed": false
   },
   "outputs": [
    {
     "data": {
      "text/plain": [
       "company_country_code          1\n",
       "company_name                  1\n",
       "company_permalink             1\n",
       "company_region                1\n",
       "investor_region               2\n",
       "investor_permalink            2\n",
       "investor_name                 2\n",
       "funded_quarter                3\n",
       "funded_at                     3\n",
       "funded_month                  3\n",
       "funded_year                   3\n",
       "funding_round_type            3\n",
       "company_state_code          492\n",
       "company_city                533\n",
       "company_category_code       643\n",
       "raised_amount_usd          3599\n",
       "investor_country_code     12001\n",
       "investor_city             12480\n",
       "investor_state_code       16809\n",
       "investor_category_code    50427\n",
       "dtype: int64"
      ]
     },
     "execution_count": 33,
     "metadata": {},
     "output_type": "execute_result"
    }
   ],
   "source": [
    "c_iter = pd.read_csv(\"crunchbase-investments.csv\", chunksize = 5000, encoding=\"ISO-8859-1\")\n",
    "null_list = []\n",
    "\n",
    "for c in c_iter:\n",
    "    null_list.append(c.isnull().sum())\n",
    "\n",
    "joined_list = pd.concat(null_list)\n",
    "grouped_list = joined_list.groupby(joined_list.index).sum()\n",
    "grouped_list.sort_values()\n"
   ]
  },
  {
   "cell_type": "markdown",
   "metadata": {},
   "source": [
    "### Find each column's memory footprint:"
   ]
  },
  {
   "cell_type": "code",
   "execution_count": 37,
   "metadata": {
    "collapsed": false
   },
   "outputs": [
    {
     "data": {
      "text/plain": [
       "Index                     0.000877\n",
       "funded_year               0.403366\n",
       "raised_amount_usd         0.403366\n",
       "investor_category_code    0.593590\n",
       "investor_state_code       2.361876\n",
       "investor_country_code     2.524654\n",
       "investor_city             2.751430\n",
       "company_state_code        2.962161\n",
       "company_country_code      3.025223\n",
       "funded_quarter            3.226837\n",
       "funded_month              3.226837\n",
       "investor_region           3.238946\n",
       "funding_round_type        3.252704\n",
       "company_region            3.253541\n",
       "company_category_code     3.262619\n",
       "company_city              3.343512\n",
       "funded_at                 3.378091\n",
       "company_name              3.424955\n",
       "investor_name             3.734270\n",
       "company_permalink         3.869808\n",
       "investor_permalink        4.749821\n",
       "dtype: float64"
      ]
     },
     "execution_count": 37,
     "metadata": {},
     "output_type": "execute_result"
    }
   ],
   "source": [
    "c_iter = pd.read_csv(\"crunchbase-investments.csv\", chunksize = 5000, encoding=\"ISO-8859-1\")\n",
    "mf_list = []\n",
    "\n",
    "for c in c_iter:\n",
    "    mf_list.append(c.memory_usage(deep=True) / 1024 ** 2 )\n",
    "joined_list = pd.concat(mf_list)\n",
    "grouped_list = joined_list.groupby(joined_list.index).sum()\n",
    "grouped_list.sort_values()"
   ]
  },
  {
   "cell_type": "markdown",
   "metadata": {},
   "source": [
    "### Find total memory footprint of all chunks combined:"
   ]
  },
  {
   "cell_type": "code",
   "execution_count": 26,
   "metadata": {
    "collapsed": false
   },
   "outputs": [
    {
     "data": {
      "text/plain": [
       "56.988484382629395"
      ]
     },
     "execution_count": 26,
     "metadata": {},
     "output_type": "execute_result"
    }
   ],
   "source": [
    "c_iter = pd.read_csv(\"crunchbase-investments.csv\", chunksize=5000, encoding=\"ISO-8859-1\")\n",
    "total_memory = 0\n",
    "for c in c_iter:\n",
    "    total_memory += c.memory_usage(deep=True).sum() / 1024 ** 2\n",
    "total_memory"
   ]
  },
  {
   "cell_type": "markdown",
   "metadata": {},
   "source": [
    "### Find total rows in data set:"
   ]
  },
  {
   "cell_type": "code",
   "execution_count": 38,
   "metadata": {
    "collapsed": false
   },
   "outputs": [
    {
     "data": {
      "text/plain": [
       "1057400"
      ]
     },
     "execution_count": 38,
     "metadata": {},
     "output_type": "execute_result"
    }
   ],
   "source": [
    "c_iter = pd.read_csv(\"crunchbase-investments.csv\", chunksize=5000, encoding=\"ISO-8859-1\")\n",
    "rowcount = 0\n",
    "for c in c_iter:\n",
    "    rowcount += c.size\n",
    "rowcount"
   ]
  },
  {
   "cell_type": "markdown",
   "metadata": {},
   "source": [
    "### Which columns can be dropped:\n",
    "#### The investor_permalink and company_permalink columns aren't really necessary for analysis and they take up a relatively large amount of memory. I would drop those 2 columns to start. Next would be the investor_category_code as it is missing a large amount of data.\n"
   ]
  },
  {
   "cell_type": "code",
   "execution_count": 42,
   "metadata": {
    "collapsed": false
   },
   "outputs": [
    {
     "name": "stdout",
     "output_type": "stream",
     "text": [
      "Index(['company_name', 'company_category_code', 'company_country_code',\n",
      "       'company_state_code', 'company_region', 'company_city', 'investor_name',\n",
      "       'investor_country_code', 'investor_state_code', 'investor_region',\n",
      "       'investor_city', 'funding_round_type', 'funded_at', 'funded_month',\n",
      "       'funded_quarter', 'funded_year', 'raised_amount_usd'],\n",
      "      dtype='object')\n"
     ]
    }
   ],
   "source": [
    "drop_cols = [\"investor_permalink\", \"company_permalink\", \"investor_category_code\"]\n",
    "keep_cols = c.columns.drop(drop_cols)\n",
    "keep_cols.tolist\n",
    "print(keep_cols)\n",
    "c_iter = pd.read_csv(\"crunchbase-investments.csv\", chunksize=5000, encoding=\"ISO-8859-1\", usecols=keep_cols)"
   ]
  },
  {
   "cell_type": "markdown",
   "metadata": {},
   "source": [
    "### Identify the types of each column:"
   ]
  },
  {
   "cell_type": "code",
   "execution_count": 43,
   "metadata": {
    "collapsed": false
   },
   "outputs": [
    {
     "name": "stdout",
     "output_type": "stream",
     "text": [
      "<class 'pandas.core.frame.DataFrame'>\n",
      "RangeIndex: 2870 entries, 50000 to 52869\n",
      "Data columns (total 20 columns):\n",
      "company_permalink         2870 non-null object\n",
      "company_name              2870 non-null object\n",
      "company_category_code     2860 non-null object\n",
      "company_country_code      2870 non-null object\n",
      "company_state_code        2841 non-null object\n",
      "company_region            2870 non-null object\n",
      "company_city              2825 non-null object\n",
      "investor_permalink        2870 non-null object\n",
      "investor_name             2870 non-null object\n",
      "investor_category_code    0 non-null float64\n",
      "investor_country_code     0 non-null float64\n",
      "investor_state_code       0 non-null float64\n",
      "investor_region           2870 non-null object\n",
      "investor_city             0 non-null float64\n",
      "funding_round_type        2870 non-null object\n",
      "funded_at                 2870 non-null object\n",
      "funded_month              2870 non-null object\n",
      "funded_quarter            2870 non-null object\n",
      "funded_year               2870 non-null int64\n",
      "raised_amount_usd         2580 non-null float64\n",
      "dtypes: float64(5), int64(1), object(14)\n",
      "memory usage: 448.5+ KB\n"
     ]
    }
   ],
   "source": [
    "c.info()"
   ]
  }
 ],
 "metadata": {
  "anaconda-cloud": {},
  "kernelspec": {
   "display_name": "Python 3",
   "language": "python",
   "name": "python3"
  },
  "language_info": {
   "codemirror_mode": {
    "name": "ipython",
    "version": 3
   },
   "file_extension": ".py",
   "mimetype": "text/x-python",
   "name": "python",
   "nbconvert_exporter": "python",
   "pygments_lexer": "ipython3",
   "version": "3.4.3"
  }
 },
 "nbformat": 4,
 "nbformat_minor": 2
}
