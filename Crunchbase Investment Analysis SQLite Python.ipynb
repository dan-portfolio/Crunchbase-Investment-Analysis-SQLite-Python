{
 "cells": [
  {
   "cell_type": "markdown",
   "metadata": {
    "collapsed": true
   },
   "source": [
    "### Analyze the Crunchbase data set while keeping a memory profile of below 10MB of memory\n"
   ]
  },
  {
   "cell_type": "code",
   "execution_count": 21,
   "metadata": {
    "collapsed": false
   },
   "outputs": [],
   "source": [
    "import pandas as pd\n",
    "import numpy as np\n",
    "\n",
    "c_iter = pd.read_csv(\"crunchbase-investments.csv\", chunksize = 5000, encoding='ISO-8859-1')"
   ]
  },
  {
   "cell_type": "markdown",
   "metadata": {},
   "source": [
    "### Read and print first 5 rows:"
   ]
  },
  {
   "cell_type": "code",
   "execution_count": 71,
   "metadata": {
    "collapsed": false
   },
   "outputs": [
    {
     "data": {
      "text/html": [
       "<div>\n",
       "<style scoped>\n",
       "    .dataframe tbody tr th:only-of-type {\n",
       "        vertical-align: middle;\n",
       "    }\n",
       "\n",
       "    .dataframe tbody tr th {\n",
       "        vertical-align: top;\n",
       "    }\n",
       "\n",
       "    .dataframe thead th {\n",
       "        text-align: right;\n",
       "    }\n",
       "</style>\n",
       "<table border=\"1\" class=\"dataframe\">\n",
       "  <thead>\n",
       "    <tr style=\"text-align: right;\">\n",
       "      <th></th>\n",
       "      <th>company_permalink</th>\n",
       "      <th>company_name</th>\n",
       "      <th>company_category_code</th>\n",
       "      <th>company_country_code</th>\n",
       "      <th>company_state_code</th>\n",
       "      <th>company_region</th>\n",
       "      <th>company_city</th>\n",
       "      <th>investor_permalink</th>\n",
       "      <th>investor_name</th>\n",
       "      <th>investor_category_code</th>\n",
       "      <th>investor_country_code</th>\n",
       "      <th>investor_state_code</th>\n",
       "      <th>investor_region</th>\n",
       "      <th>investor_city</th>\n",
       "      <th>funding_round_type</th>\n",
       "      <th>funded_at</th>\n",
       "      <th>funded_month</th>\n",
       "      <th>funded_quarter</th>\n",
       "      <th>funded_year</th>\n",
       "      <th>raised_amount_usd</th>\n",
       "    </tr>\n",
       "  </thead>\n",
       "  <tbody>\n",
       "    <tr>\n",
       "      <th>0</th>\n",
       "      <td>/company/advercar</td>\n",
       "      <td>AdverCar</td>\n",
       "      <td>advertising</td>\n",
       "      <td>USA</td>\n",
       "      <td>CA</td>\n",
       "      <td>SF Bay</td>\n",
       "      <td>San Francisco</td>\n",
       "      <td>/company/1-800-flowers-com</td>\n",
       "      <td>1-800-FLOWERS.COM</td>\n",
       "      <td>NaN</td>\n",
       "      <td>USA</td>\n",
       "      <td>NY</td>\n",
       "      <td>New York</td>\n",
       "      <td>New York</td>\n",
       "      <td>series-a</td>\n",
       "      <td>2012-10-30</td>\n",
       "      <td>2012-10</td>\n",
       "      <td>2012-Q4</td>\n",
       "      <td>2012</td>\n",
       "      <td>2000000</td>\n",
       "    </tr>\n",
       "    <tr>\n",
       "      <th>1</th>\n",
       "      <td>/company/launchgram</td>\n",
       "      <td>LaunchGram</td>\n",
       "      <td>news</td>\n",
       "      <td>USA</td>\n",
       "      <td>CA</td>\n",
       "      <td>SF Bay</td>\n",
       "      <td>Mountain View</td>\n",
       "      <td>/company/10xelerator</td>\n",
       "      <td>10Xelerator</td>\n",
       "      <td>finance</td>\n",
       "      <td>USA</td>\n",
       "      <td>OH</td>\n",
       "      <td>Columbus</td>\n",
       "      <td>Columbus</td>\n",
       "      <td>other</td>\n",
       "      <td>2012-01-23</td>\n",
       "      <td>2012-01</td>\n",
       "      <td>2012-Q1</td>\n",
       "      <td>2012</td>\n",
       "      <td>20000</td>\n",
       "    </tr>\n",
       "    <tr>\n",
       "      <th>2</th>\n",
       "      <td>/company/utap</td>\n",
       "      <td>uTaP</td>\n",
       "      <td>messaging</td>\n",
       "      <td>USA</td>\n",
       "      <td>NaN</td>\n",
       "      <td>United States - Other</td>\n",
       "      <td>NaN</td>\n",
       "      <td>/company/10xelerator</td>\n",
       "      <td>10Xelerator</td>\n",
       "      <td>finance</td>\n",
       "      <td>USA</td>\n",
       "      <td>OH</td>\n",
       "      <td>Columbus</td>\n",
       "      <td>Columbus</td>\n",
       "      <td>other</td>\n",
       "      <td>2012-01-01</td>\n",
       "      <td>2012-01</td>\n",
       "      <td>2012-Q1</td>\n",
       "      <td>2012</td>\n",
       "      <td>20000</td>\n",
       "    </tr>\n",
       "    <tr>\n",
       "      <th>3</th>\n",
       "      <td>/company/zoopshop</td>\n",
       "      <td>ZoopShop</td>\n",
       "      <td>software</td>\n",
       "      <td>USA</td>\n",
       "      <td>OH</td>\n",
       "      <td>Columbus</td>\n",
       "      <td>columbus</td>\n",
       "      <td>/company/10xelerator</td>\n",
       "      <td>10Xelerator</td>\n",
       "      <td>finance</td>\n",
       "      <td>USA</td>\n",
       "      <td>OH</td>\n",
       "      <td>Columbus</td>\n",
       "      <td>Columbus</td>\n",
       "      <td>angel</td>\n",
       "      <td>2012-02-15</td>\n",
       "      <td>2012-02</td>\n",
       "      <td>2012-Q1</td>\n",
       "      <td>2012</td>\n",
       "      <td>20000</td>\n",
       "    </tr>\n",
       "    <tr>\n",
       "      <th>4</th>\n",
       "      <td>/company/efuneral</td>\n",
       "      <td>eFuneral</td>\n",
       "      <td>web</td>\n",
       "      <td>USA</td>\n",
       "      <td>OH</td>\n",
       "      <td>Cleveland</td>\n",
       "      <td>Cleveland</td>\n",
       "      <td>/company/10xelerator</td>\n",
       "      <td>10Xelerator</td>\n",
       "      <td>finance</td>\n",
       "      <td>USA</td>\n",
       "      <td>OH</td>\n",
       "      <td>Columbus</td>\n",
       "      <td>Columbus</td>\n",
       "      <td>other</td>\n",
       "      <td>2011-09-08</td>\n",
       "      <td>2011-09</td>\n",
       "      <td>2011-Q3</td>\n",
       "      <td>2011</td>\n",
       "      <td>20000</td>\n",
       "    </tr>\n",
       "  </tbody>\n",
       "</table>\n",
       "</div>"
      ],
      "text/plain": [
       "     company_permalink company_name company_category_code  \\\n",
       "0    /company/advercar     AdverCar           advertising   \n",
       "1  /company/launchgram   LaunchGram                  news   \n",
       "2        /company/utap         uTaP             messaging   \n",
       "3    /company/zoopshop     ZoopShop              software   \n",
       "4    /company/efuneral     eFuneral                   web   \n",
       "\n",
       "  company_country_code company_state_code         company_region  \\\n",
       "0                  USA                 CA                 SF Bay   \n",
       "1                  USA                 CA                 SF Bay   \n",
       "2                  USA                NaN  United States - Other   \n",
       "3                  USA                 OH               Columbus   \n",
       "4                  USA                 OH              Cleveland   \n",
       "\n",
       "    company_city          investor_permalink      investor_name  \\\n",
       "0  San Francisco  /company/1-800-flowers-com  1-800-FLOWERS.COM   \n",
       "1  Mountain View        /company/10xelerator        10Xelerator   \n",
       "2            NaN        /company/10xelerator        10Xelerator   \n",
       "3       columbus        /company/10xelerator        10Xelerator   \n",
       "4      Cleveland        /company/10xelerator        10Xelerator   \n",
       "\n",
       "  investor_category_code investor_country_code investor_state_code  \\\n",
       "0                    NaN                   USA                  NY   \n",
       "1                finance                   USA                  OH   \n",
       "2                finance                   USA                  OH   \n",
       "3                finance                   USA                  OH   \n",
       "4                finance                   USA                  OH   \n",
       "\n",
       "  investor_region investor_city funding_round_type   funded_at funded_month  \\\n",
       "0        New York      New York           series-a  2012-10-30      2012-10   \n",
       "1        Columbus      Columbus              other  2012-01-23      2012-01   \n",
       "2        Columbus      Columbus              other  2012-01-01      2012-01   \n",
       "3        Columbus      Columbus              angel  2012-02-15      2012-02   \n",
       "4        Columbus      Columbus              other  2011-09-08      2011-09   \n",
       "\n",
       "  funded_quarter  funded_year  raised_amount_usd  \n",
       "0        2012-Q4         2012            2000000  \n",
       "1        2012-Q1         2012              20000  \n",
       "2        2012-Q1         2012              20000  \n",
       "3        2012-Q1         2012              20000  \n",
       "4        2011-Q3         2011              20000  "
      ]
     },
     "execution_count": 71,
     "metadata": {},
     "output_type": "execute_result"
    }
   ],
   "source": [
    "df = pd.read_csv(\"crunchbase-investments.csv\", nrows=5, encoding='ISO-8859-1')\n",
    "df"
   ]
  },
  {
   "cell_type": "markdown",
   "metadata": {},
   "source": [
    "### Find each column's missing value count:"
   ]
  },
  {
   "cell_type": "code",
   "execution_count": 33,
   "metadata": {
    "collapsed": false
   },
   "outputs": [
    {
     "data": {
      "text/plain": [
       "company_country_code          1\n",
       "company_name                  1\n",
       "company_permalink             1\n",
       "company_region                1\n",
       "investor_region               2\n",
       "investor_permalink            2\n",
       "investor_name                 2\n",
       "funded_quarter                3\n",
       "funded_at                     3\n",
       "funded_month                  3\n",
       "funded_year                   3\n",
       "funding_round_type            3\n",
       "company_state_code          492\n",
       "company_city                533\n",
       "company_category_code       643\n",
       "raised_amount_usd          3599\n",
       "investor_country_code     12001\n",
       "investor_city             12480\n",
       "investor_state_code       16809\n",
       "investor_category_code    50427\n",
       "dtype: int64"
      ]
     },
     "execution_count": 33,
     "metadata": {},
     "output_type": "execute_result"
    }
   ],
   "source": [
    "c_iter = pd.read_csv(\"crunchbase-investments.csv\", chunksize = 5000, encoding=\"ISO-8859-1\")\n",
    "null_list = []\n",
    "\n",
    "for c in c_iter:\n",
    "    null_list.append(c.isnull().sum())\n",
    "\n",
    "joined_list = pd.concat(null_list)\n",
    "grouped_list = joined_list.groupby(joined_list.index).sum()\n",
    "grouped_list.sort_values()\n"
   ]
  },
  {
   "cell_type": "markdown",
   "metadata": {},
   "source": [
    "### Find each column's memory footprint:"
   ]
  },
  {
   "cell_type": "code",
   "execution_count": 37,
   "metadata": {
    "collapsed": false
   },
   "outputs": [
    {
     "data": {
      "text/plain": [
       "Index                     0.000877\n",
       "funded_year               0.403366\n",
       "raised_amount_usd         0.403366\n",
       "investor_category_code    0.593590\n",
       "investor_state_code       2.361876\n",
       "investor_country_code     2.524654\n",
       "investor_city             2.751430\n",
       "company_state_code        2.962161\n",
       "company_country_code      3.025223\n",
       "funded_quarter            3.226837\n",
       "funded_month              3.226837\n",
       "investor_region           3.238946\n",
       "funding_round_type        3.252704\n",
       "company_region            3.253541\n",
       "company_category_code     3.262619\n",
       "company_city              3.343512\n",
       "funded_at                 3.378091\n",
       "company_name              3.424955\n",
       "investor_name             3.734270\n",
       "company_permalink         3.869808\n",
       "investor_permalink        4.749821\n",
       "dtype: float64"
      ]
     },
     "execution_count": 37,
     "metadata": {},
     "output_type": "execute_result"
    }
   ],
   "source": [
    "c_iter = pd.read_csv(\"crunchbase-investments.csv\", chunksize = 5000, encoding=\"ISO-8859-1\")\n",
    "mf_list = []\n",
    "\n",
    "for c in c_iter:\n",
    "    mf_list.append(c.memory_usage(deep=True) / 1024 ** 2 )\n",
    "joined_list = pd.concat(mf_list)\n",
    "grouped_list = joined_list.groupby(joined_list.index).sum()\n",
    "grouped_list.sort_values()"
   ]
  },
  {
   "cell_type": "markdown",
   "metadata": {},
   "source": [
    "### Find total memory footprint of all chunks combined:"
   ]
  },
  {
   "cell_type": "code",
   "execution_count": 26,
   "metadata": {
    "collapsed": false
   },
   "outputs": [
    {
     "data": {
      "text/plain": [
       "56.988484382629395"
      ]
     },
     "execution_count": 26,
     "metadata": {},
     "output_type": "execute_result"
    }
   ],
   "source": [
    "c_iter = pd.read_csv(\"crunchbase-investments.csv\", chunksize=5000, encoding=\"ISO-8859-1\")\n",
    "total_memory = 0\n",
    "for c in c_iter:\n",
    "    total_memory += c.memory_usage(deep=True).sum() / 1024 ** 2\n",
    "total_memory"
   ]
  },
  {
   "cell_type": "markdown",
   "metadata": {},
   "source": [
    "### Find total rows in data set:"
   ]
  },
  {
   "cell_type": "code",
   "execution_count": 38,
   "metadata": {
    "collapsed": false
   },
   "outputs": [
    {
     "data": {
      "text/plain": [
       "1057400"
      ]
     },
     "execution_count": 38,
     "metadata": {},
     "output_type": "execute_result"
    }
   ],
   "source": [
    "c_iter = pd.read_csv(\"crunchbase-investments.csv\", chunksize=5000, encoding=\"ISO-8859-1\")\n",
    "rowcount = 0\n",
    "for c in c_iter:\n",
    "    rowcount += c.size\n",
    "rowcount"
   ]
  },
  {
   "cell_type": "markdown",
   "metadata": {},
   "source": [
    "### Which columns can be dropped:\n",
    "#### The investor_permalink and company_permalink columns aren't really necessary for analysis and they take up a relatively large amount of memory. I would drop those 2 columns to start. Next would be the investor_category_code as it is missing a large amount of data.\n"
   ]
  },
  {
   "cell_type": "code",
   "execution_count": 42,
   "metadata": {
    "collapsed": false
   },
   "outputs": [
    {
     "name": "stdout",
     "output_type": "stream",
     "text": [
      "Index(['company_name', 'company_category_code', 'company_country_code',\n",
      "       'company_state_code', 'company_region', 'company_city', 'investor_name',\n",
      "       'investor_country_code', 'investor_state_code', 'investor_region',\n",
      "       'investor_city', 'funding_round_type', 'funded_at', 'funded_month',\n",
      "       'funded_quarter', 'funded_year', 'raised_amount_usd'],\n",
      "      dtype='object')\n"
     ]
    }
   ],
   "source": [
    "drop_cols = [\"investor_permalink\", \"company_permalink\", \"investor_category_code\"]\n",
    "keep_cols = c.columns.drop(drop_cols)\n",
    "keep_cols.tolist\n",
    "print(keep_cols)\n",
    "c_iter = pd.read_csv(\"crunchbase-investments.csv\", chunksize=5000, encoding=\"ISO-8859-1\", usecols=keep_cols)"
   ]
  },
  {
   "cell_type": "markdown",
   "metadata": {},
   "source": [
    "### Identify the types of each column:"
   ]
  },
  {
   "cell_type": "code",
   "execution_count": 51,
   "metadata": {
    "collapsed": false
   },
   "outputs": [
    {
     "name": "stdout",
     "output_type": "stream",
     "text": [
      "<class 'pandas.core.frame.DataFrame'>\n",
      "RangeIndex: 2870 entries, 50000 to 52869\n",
      "Data columns (total 5 columns):\n",
      "investor_country_code    0 non-null float64\n",
      "investor_state_code      0 non-null float64\n",
      "investor_city            0 non-null float64\n",
      "funded_year              2870 non-null int64\n",
      "raised_amount_usd        2580 non-null float64\n",
      "dtypes: float64(4), int64(1)\n",
      "memory usage: 112.2 KB\n",
      "<class 'pandas.core.frame.DataFrame'>\n",
      "RangeIndex: 2870 entries, 50000 to 52869\n",
      "Data columns (total 12 columns):\n",
      "company_name             2870 non-null object\n",
      "company_category_code    2860 non-null object\n",
      "company_country_code     2870 non-null object\n",
      "company_state_code       2841 non-null object\n",
      "company_region           2870 non-null object\n",
      "company_city             2825 non-null object\n",
      "investor_name            2870 non-null object\n",
      "investor_region          2870 non-null object\n",
      "funding_round_type       2870 non-null object\n",
      "funded_at                2870 non-null object\n",
      "funded_month             2870 non-null object\n",
      "funded_quarter           2870 non-null object\n",
      "dtypes: object(12)\n",
      "memory usage: 269.1+ KB\n"
     ]
    }
   ],
   "source": [
    "c_nums = c.select_dtypes(include=[np.number])\n",
    "c_nums.info()\n",
    "c_objs = c.select_dtypes(include=[\"object\"])\n",
    "c_objs.info()"
   ]
  },
  {
   "cell_type": "code",
   "execution_count": 72,
   "metadata": {
    "collapsed": false
   },
   "outputs": [
    {
     "data": {
      "text/plain": [
       "(funded_year, 1995.0)                   0.0\n",
       "(funded_year, 1996.0)                   0.0\n",
       "(funded_year, 1998.0)                   0.0\n",
       "(funded_year, 1999.0)                  95.0\n",
       "(funded_year, 2000.0)                 176.0\n",
       "(funded_year, 2001.0)                 116.0\n",
       "(funded_year, 2002.0)                 145.0\n",
       "(funded_year, 2003.0)                   0.0\n",
       "(funded_year, 2004.0)                 411.0\n",
       "(funded_year, 2005.0)                2990.0\n",
       "(funded_year, 2006.0)                3867.0\n",
       "(funded_year, 2007.0)                4781.0\n",
       "(funded_year, 2008.0)                4937.0\n",
       "(funded_year, 2009.0)                4710.0\n",
       "(funded_year, 2010.0)                6295.0\n",
       "(funded_year, 2011.0)                8259.0\n",
       "(funded_year, 2012.0)                8773.0\n",
       "(funded_year, 2013.0)                7115.0\n",
       "(raised_amount_usd, 2000.0)             0.0\n",
       "(raised_amount_usd, 5000.0)             0.0\n",
       "(raised_amount_usd, 6000.0)             0.0\n",
       "(raised_amount_usd, 6500.0)             0.0\n",
       "(raised_amount_usd, 10000.0)            0.0\n",
       "(raised_amount_usd, 11600.0)            0.0\n",
       "(raised_amount_usd, 11800.0)            0.0\n",
       "(raised_amount_usd, 12000.0)            0.0\n",
       "(raised_amount_usd, 13000.0)            0.0\n",
       "(raised_amount_usd, 14000.0)            0.0\n",
       "(raised_amount_usd, 15000.0)            0.0\n",
       "(raised_amount_usd, 15282.0)            0.0\n",
       "                                      ...  \n",
       "(raised_amount_usd, 130000000.0)        0.0\n",
       "(raised_amount_usd, 131000000.0)        0.0\n",
       "(raised_amount_usd, 133000000.0)        0.0\n",
       "(raised_amount_usd, 135000000.0)        0.0\n",
       "(raised_amount_usd, 136000000.0)        0.0\n",
       "(raised_amount_usd, 145000000.0)        0.0\n",
       "(raised_amount_usd, 150000000.0)       64.0\n",
       "(raised_amount_usd, 154000000.0)        0.0\n",
       "(raised_amount_usd, 168000000.0)        0.0\n",
       "(raised_amount_usd, 170000000.0)        0.0\n",
       "(raised_amount_usd, 176000000.0)        0.0\n",
       "(raised_amount_usd, 183000000.0)        0.0\n",
       "(raised_amount_usd, 185000000.0)        0.0\n",
       "(raised_amount_usd, 189000000.0)        0.0\n",
       "(raised_amount_usd, 196000000.0)        0.0\n",
       "(raised_amount_usd, 200000000.0)        0.0\n",
       "(raised_amount_usd, 218500000.0)        0.0\n",
       "(raised_amount_usd, 220000000.0)        0.0\n",
       "(raised_amount_usd, 240000000.0)        0.0\n",
       "(raised_amount_usd, 250000000.0)        0.0\n",
       "(raised_amount_usd, 275000000.0)        0.0\n",
       "(raised_amount_usd, 300000000.0)        0.0\n",
       "(raised_amount_usd, 360100000.0)        0.0\n",
       "(raised_amount_usd, 400000000.0)        0.0\n",
       "(raised_amount_usd, 450000000.0)        0.0\n",
       "(raised_amount_usd, 750000000.0)        0.0\n",
       "(raised_amount_usd, 920000000.0)        0.0\n",
       "(raised_amount_usd, 1000000000.0)       0.0\n",
       "(raised_amount_usd, 1500000000.0)       0.0\n",
       "(raised_amount_usd, 3200000000.0)       0.0\n",
       "Length: 642, dtype: float64"
      ]
     },
     "execution_count": 72,
     "metadata": {},
     "output_type": "execute_result"
    }
   ],
   "source": [
    "c_iter = pd.read_csv(\"crunchbase-investments.csv\", chunksize=5000, encoding=\"ISO-8859-1\", usecols=keep_cols)\n",
    "vc_overall = {}\n",
    "for c in c_iter:\n",
    "    c_nums = c.select_dtypes(include=[np.number])\n",
    "    columns = c_nums.columns\n",
    "    for col in columns:\n",
    "        if col in vc_overall:\n",
    "            vc_overall[col] += c[col].value_counts()\n",
    "        else:\n",
    "            vc_overall[col] = c[col].value_counts()\n",
    "    \n",
    "vc_combined = pd.concat(vc_overall)\n",
    "vc_grouped = vc_combined.groupby(vc_combined.index).sum()\n",
    "vc_grouped\n"
   ]
  },
  {
   "cell_type": "code",
   "execution_count": 78,
   "metadata": {
    "collapsed": false
   },
   "outputs": [
    {
     "data": {
      "text/plain": [
       "(company_category_code, advertising)        3200.0\n",
       "(company_category_code, analytics)          1863.0\n",
       "(company_category_code, automotive)          164.0\n",
       "(company_category_code, biotech)            4951.0\n",
       "(company_category_code, cleantech)          1948.0\n",
       "(company_category_code, consulting)          233.0\n",
       "(company_category_code, design)                0.0\n",
       "(company_category_code, ecommerce)          2168.0\n",
       "(company_category_code, education)           783.0\n",
       "(company_category_code, enterprise)         4489.0\n",
       "(company_category_code, fashion)             368.0\n",
       "(company_category_code, finance)             931.0\n",
       "(company_category_code, games_video)        1893.0\n",
       "(company_category_code, government)            0.0\n",
       "(company_category_code, hardware)           1537.0\n",
       "(company_category_code, health)              670.0\n",
       "(company_category_code, hospitality)         331.0\n",
       "(company_category_code, legal)                87.0\n",
       "(company_category_code, local)                 0.0\n",
       "(company_category_code, manufacturing)       310.0\n",
       "(company_category_code, medical)            1315.0\n",
       "(company_category_code, messaging)           452.0\n",
       "(company_category_code, mobile)             4067.0\n",
       "(company_category_code, music)               287.0\n",
       "(company_category_code, nanotech)              0.0\n",
       "(company_category_code, network_hosting)    1075.0\n",
       "(company_category_code, news)                363.0\n",
       "(company_category_code, nonprofit)           149.0\n",
       "(company_category_code, other)               481.0\n",
       "(company_category_code, pets)                  0.0\n",
       "                                             ...  \n",
       "(investor_state_code, IN)                     88.0\n",
       "(investor_state_code, KS)                      0.0\n",
       "(investor_state_code, KY)                      0.0\n",
       "(investor_state_code, MA)                   3619.0\n",
       "(investor_state_code, MD)                    486.0\n",
       "(investor_state_code, ME)                      0.0\n",
       "(investor_state_code, MI)                    315.0\n",
       "(investor_state_code, MN)                    101.0\n",
       "(investor_state_code, MO)                      0.0\n",
       "(investor_state_code, MS)                      0.0\n",
       "(investor_state_code, NC)                    339.0\n",
       "(investor_state_code, NE)                      0.0\n",
       "(investor_state_code, NH)                      0.0\n",
       "(investor_state_code, NJ)                    456.0\n",
       "(investor_state_code, NV)                      0.0\n",
       "(investor_state_code, NY)                   4404.0\n",
       "(investor_state_code, OH)                    309.0\n",
       "(investor_state_code, OK)                      0.0\n",
       "(investor_state_code, OR)                      0.0\n",
       "(investor_state_code, PA)                    762.0\n",
       "(investor_state_code, RI)                      0.0\n",
       "(investor_state_code, SC)                      0.0\n",
       "(investor_state_code, SD)                      0.0\n",
       "(investor_state_code, TN)                    147.0\n",
       "(investor_state_code, TX)                    816.0\n",
       "(investor_state_code, UT)                      0.0\n",
       "(investor_state_code, VA)                    579.0\n",
       "(investor_state_code, VT)                      0.0\n",
       "(investor_state_code, WA)                    847.0\n",
       "(investor_state_code, WI)                      0.0\n",
       "Length: 8378, dtype: float64"
      ]
     },
     "execution_count": 78,
     "metadata": {},
     "output_type": "execute_result"
    }
   ],
   "source": [
    "c_iter = pd.read_csv(\"crunchbase-investments.csv\", chunksize=5000, encoding=\"ISO-8859-1\", usecols=keep_cols)\n",
    "vc_overall = {}\n",
    "for c in c_iter:\n",
    "    c_nums = c.select_dtypes(include=[\"object\"])\n",
    "    columns = c_nums.columns\n",
    "    for col in columns:\n",
    "        if col in vc_overall:\n",
    "            vc_overall[col] += c[col].value_counts()\n",
    "        else:\n",
    "            vc_overall[col] = c[col].value_counts()\n",
    "    \n",
    "vc_combined = pd.concat(vc_overall)\n",
    "vc_grouped = vc_combined.groupby(vc_combined.index).sum()\n",
    "vc_grouped"
   ]
  },
  {
   "cell_type": "markdown",
   "metadata": {},
   "source": [
    "### Connect to SQLite database and load rows"
   ]
  },
  {
   "cell_type": "code",
   "execution_count": 79,
   "metadata": {
    "collapsed": true
   },
   "outputs": [],
   "source": [
    "import sqlite3\n",
    "conn = sqlite3.connect('crunchbase.db')\n",
    "c_iter = pd.read_csv('crunchbase-investments.csv', chunksize=5000, encoding='ISO-8859-1')\n",
    "\n",
    "for c in c_iter:\n",
    "    c.to_sql(\"investments\", conn, if_exists='append', index=False)"
   ]
  }
 ],
 "metadata": {
  "anaconda-cloud": {},
  "kernelspec": {
   "display_name": "Python 3",
   "language": "python",
   "name": "python3"
  },
  "language_info": {
   "codemirror_mode": {
    "name": "ipython",
    "version": 3
   },
   "file_extension": ".py",
   "mimetype": "text/x-python",
   "name": "python",
   "nbconvert_exporter": "python",
   "pygments_lexer": "ipython3",
   "version": "3.4.3"
  }
 },
 "nbformat": 4,
 "nbformat_minor": 2
}
